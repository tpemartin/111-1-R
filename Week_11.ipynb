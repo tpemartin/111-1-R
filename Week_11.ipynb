{
  "nbformat": 4,
  "nbformat_minor": 0,
  "metadata": {
    "colab": {
      "provenance": [],
      "toc_visible": true
    },
    "kernelspec": {
      "name": "ir",
      "display_name": "R"
    },
    "language_info": {
      "name": "R"
    },
    "gpuClass": "standard"
  },
  "cells": [
    {
      "cell_type": "markdown",
      "source": [
        "\n",
        "  Today's goals:\n",
        "  \n",
        "  * learn to import .csv data\n",
        "\n",
        "  * change feature names of a dataframe\n",
        "\n",
        "  * learn **class** and its difference from **type**\n",
        "\n",
        "  * what does parsing do?\n",
        "\n",
        "  * how to fix wrong classes? \n",
        "\n",
        "  * check NA\n",
        "\n",
        "  * factor class summary\n",
        "\n",
        "\n",
        "# University registration rate\n",
        "\n",
        "Aging society: too many schools, too little students. What's the current enrollment rate in each university in Taiwan\n",
        "\n",
        "## Data\n",
        "\n",
        "  * [Open data](https://data.gov.tw/)\n",
        "\n",
        "    * <https://data.gov.tw/dataset/26228>\n",
        "\n",
        "### Format\n",
        "\n",
        "Data is like a spreadsheet. When we imported, we imported as a special list stucture called **Data Frame** which is a collection of data following\n",
        "\n",
        "  * feature-by-feature structure\n",
        "\n",
        "  * each feature is an **ATOMIC** vector (Within a feature, element values are all of the same type.)\n",
        "\n",
        "  * feature vectors have the same length, which is equal to the number of observations (觀測值個數), also called sample size (樣本數）。\n",
        "\n",
        "### Import .csv data\n",
        "\n",
        "  * source: <https://udb.moe.edu.tw/download/udata/data_gov/學生類/學12-1.新生註冊率-以「系所」統計.csv>\n",
        "\n",
        "     * as an url: `\"https://udb.moe.edu.tw/download/udata/data_gov/學生類/學12-1.新生註冊率-以「系所」統計.csv\"`\n",
        "\n",
        "     * as a local file: `\"./data/學生類/學12-1.新生註冊率-以「系所」統計.csv\"`\n",
        "\n"
      ],
      "metadata": {
        "id": "Bti1A_64u1et"
      }
    },
    {
      "cell_type": "markdown",
      "source": [
        "### Import to global environment\n",
        "\n",
        "We need data be bound to an object in the global environment for us to use.\n",
        "\n",
        "```\n",
        "enrollmentRate_department <- ...\n",
        "```\n",
        "\n",
        "   * csv\n",
        "\n",
        "In **Environment** tab, click **Import Dataset** > **From Text (readr)**, show"
      ],
      "metadata": {
        "id": "tqyLljyYxIPi"
      }
    },
    {
      "cell_type": "markdown",
      "source": [
        "Copy the code from **Code Preview**.\n"
      ],
      "metadata": {
        "id": "MxpujkWZzlmc"
      }
    },
    {
      "cell_type": "code",
      "source": [
        "library(readr)\n",
        "enrollmentRate_department <- read_csv(\"data/學12-1.新生註冊率-以「系所」統計.csv\")\n",
        "# View(enrollmentRate_department)\n"
      ],
      "metadata": {
        "colab": {
          "base_uri": "https://localhost:8080/"
        },
        "id": "v1X_JQt7zQLY",
        "outputId": "e8a0fc59-be4e-4654-f392-722814c02d16"
      },
      "execution_count": 68,
      "outputs": [
        {
          "output_type": "stream",
          "name": "stderr",
          "text": [
            "\u001b[1mRows: \u001b[22m\u001b[34m42900\u001b[39m \u001b[1mColumns: \u001b[22m\u001b[34m16\u001b[39m\n",
            "\u001b[36m──\u001b[39m \u001b[1mColumn specification\u001b[22m \u001b[36m────────────────────────────────────────────────────────\u001b[39m\n",
            "\u001b[1mDelimiter:\u001b[22m \",\"\n",
            "\u001b[31mchr\u001b[39m (11): 設立別, 學校類別, 學校統計處代碼, 學校名稱, 系所代碼, 系所名稱, 日間/進修, 學制班別, 當學年度各學系境外(新生)學生...\n",
            "\u001b[32mdbl\u001b[39m  (5): 學年度, 當學年度總量內核定新生招生名額(A), 當學年度新生保留入學資格人數(B), 當學年度總量內新生招生核定名額之實際註冊人數...\n",
            "\n",
            "\u001b[36mℹ\u001b[39m Use `spec()` to retrieve the full column specification for this data.\n",
            "\u001b[36mℹ\u001b[39m Specify the column types or set `show_col_types = FALSE` to quiet this message.\n"
          ]
        }
      ]
    },
    {
      "cell_type": "markdown",
      "source": [
        "## Preliminary Exploration\n",
        "\n"
      ],
      "metadata": {
        "id": "C11ctQZk7g0b"
      }
    },
    {
      "cell_type": "markdown",
      "source": [
        "### the basics\n",
        "\n",
        "  * data source:\n",
        "\n",
        "  * sample size\n",
        "\n",
        "  * features\n",
        "\n",
        "  * entiry unit of an observation"
      ],
      "metadata": {
        "id": "H429CUdZZPxu"
      }
    },
    {
      "cell_type": "code",
      "source": [
        "# sample size\n",
        "nrow(enrollmentRate_department) \n",
        "# feature numbers\n",
        "ncol(enrollmentRate_department)\n",
        "# feature names\n",
        "names(enrollmentRate_department)"
      ],
      "metadata": {
        "id": "ZhF2p3yz5IFa"
      },
      "execution_count": null,
      "outputs": []
    },
    {
      "cell_type": "code",
      "source": [
        "library(dplyr) # package to deal with dataframe.\n",
        "\n",
        "dplyr::glimpse(enrollmentRate_department)"
      ],
      "metadata": {
        "id": "V4-tMZjPLXxx"
      },
      "execution_count": null,
      "outputs": []
    },
    {
      "cell_type": "markdown",
      "source": [
        "The entity unit is one university's degree program. Each program's frenshmen enrollment rate is tracked through several **school years**."
      ],
      "metadata": {
        "id": "6PjYS81hLslf"
      }
    },
    {
      "cell_type": "markdown",
      "source": [
        "\n",
        "### renames features\n",
        "\n",
        "Names not following regular pattern can make your program typing difficult. It is common that we change it to some easy-to-call name.\n",
        "\n"
      ],
      "metadata": {
        "id": "kz-wdPuT73HT"
      }
    },
    {
      "cell_type": "code",
      "source": [
        "names(enrollmentRate_department)"
      ],
      "metadata": {
        "id": "GScbQmJRNdTe"
      },
      "execution_count": null,
      "outputs": []
    },
    {
      "cell_type": "markdown",
      "source": [
        " [1] \"學年度\"                                               \n",
        " [2] \"設立別\"                                               \n",
        " [3] \"學校類別\"                                             \n",
        " [4] \"學校統計處代碼\"                                       \n",
        " [5] \"學校名稱\"                                             \n",
        " [6] \"系所代碼\"                                             \n",
        " [7] \"系所名稱\"                                             \n",
        " [8] \"日間/進修\"                                            \n",
        " [9] \"學制班別\"                                             \n",
        "[10] \"當學年度總量內核定新生招生名額(A)\"                    \n",
        "[11] \"當學年度新生保留入學資格人數(B)\"                      \n",
        "[12] \"當學年度總量內新生招生核定名額之實際註冊人數(C)\"      \n",
        "[13] \"當學年度各學系境外(新生)學生實際註冊人數 (E)\"         \n",
        "[14] \"當學年度新生註冊率(%)\\n \\n D=〔(C+E)/(A-B+E)〕＊100％\""
      ],
      "metadata": {
        "id": "JQbXJ6GSNhPM"
      }
    },
    {
      "cell_type": "code",
      "source": [
        "names(enrollmentRate_department)[c(1,2,5,7,8,10:14)]\n",
        "\n",
        "names(enrollmentRate_department)[c(1,2,5,7,8,10:14)] <-  # notice 10:14\n",
        "  c(\"schoolYear\", \"typeByFundingSource\",\"school\", \"department\",\"day_night\", \n",
        "  \"freshmenFresh\",\"freshmenOld\",\"freshmenFreshRegistered\",\n",
        "  \"foreignStudentsRegistered\", \"netFreshmenRegistrationRate\")"
      ],
      "metadata": {
        "id": "UxHKUBgyFQSl"
      },
      "execution_count": null,
      "outputs": []
    },
    {
      "cell_type": "markdown",
      "source": [
        "## Checking\n",
        "\n",
        "### Class\n",
        "\n",
        "  * class determine how much computer understand the data, and therefore what can computer do to it.\n",
        "\n"
      ],
      "metadata": {
        "id": "NwvRbSg4LNSn"
      }
    },
    {
      "cell_type": "code",
      "source": [
        "class(\"2022-12-31\")\n",
        "typeof(\"2022-12-31\")\n",
        "\n",
        "class(TRUE)\n",
        "typeof(TRUE)\n",
        "\n",
        "class(2)\n",
        "typeof(2)"
      ],
      "metadata": {
        "colab": {
          "base_uri": "https://localhost:8080/",
          "height": 121
        },
        "id": "6FNO6rNLP982",
        "outputId": "a2e0cfa7-4b35-476e-a839-be60ae6f1480"
      },
      "execution_count": 61,
      "outputs": [
        {
          "output_type": "display_data",
          "data": {
            "text/html": [
              "'character'"
            ],
            "text/markdown": "'character'",
            "text/latex": "'character'",
            "text/plain": [
              "[1] \"character\""
            ]
          },
          "metadata": {}
        },
        {
          "output_type": "display_data",
          "data": {
            "text/html": [
              "'character'"
            ],
            "text/markdown": "'character'",
            "text/latex": "'character'",
            "text/plain": [
              "[1] \"character\""
            ]
          },
          "metadata": {}
        },
        {
          "output_type": "display_data",
          "data": {
            "text/html": [
              "'logical'"
            ],
            "text/markdown": "'logical'",
            "text/latex": "'logical'",
            "text/plain": [
              "[1] \"logical\""
            ]
          },
          "metadata": {}
        },
        {
          "output_type": "display_data",
          "data": {
            "text/html": [
              "'logical'"
            ],
            "text/markdown": "'logical'",
            "text/latex": "'logical'",
            "text/plain": [
              "[1] \"logical\""
            ]
          },
          "metadata": {}
        },
        {
          "output_type": "display_data",
          "data": {
            "text/html": [
              "'numeric'"
            ],
            "text/markdown": "'numeric'",
            "text/latex": "'numeric'",
            "text/plain": [
              "[1] \"numeric\""
            ]
          },
          "metadata": {}
        },
        {
          "output_type": "display_data",
          "data": {
            "text/html": [
              "'double'"
            ],
            "text/markdown": "'double'",
            "text/latex": "'double'",
            "text/plain": [
              "[1] \"double\""
            ]
          },
          "metadata": {}
        }
      ]
    },
    {
      "cell_type": "code",
      "source": [
        "string2 <- lubridate::ymd(\"2022-12-31\")\n",
        "print(string2) \n",
        "class(string2)\n",
        "string2+lubridate::days(3)"
      ],
      "metadata": {
        "id": "OchOADs5MaSj"
      },
      "execution_count": null,
      "outputs": []
    },
    {
      "cell_type": "code",
      "source": [
        "string1 <- \"2022-12-31\"\n",
        "print(string1)\n",
        "class(string1)\n",
        "string1+lubridate::days(3) # computer does not know what to do\n"
      ],
      "metadata": {
        "id": "4cJ7R6mSLukK"
      },
      "execution_count": null,
      "outputs": []
    },
    {
      "cell_type": "markdown",
      "source": [
        "### Are feature [classes](https://tpemartin.github.io/NTPU-R-for-Data-Science-EN/operations-on-atomic-vectors.html#class) appropriate. \n"
      ],
      "metadata": {
        "id": "uSYQYPyrSLdz"
      }
    },
    {
      "cell_type": "code",
      "source": [
        "class(enrollmentRate_department$schoolYear)\n",
        "class(enrollmentRate_department$netFreshmenRegistrationRate)"
      ],
      "metadata": {
        "id": "g9XH54AIMqEh"
      },
      "execution_count": null,
      "outputs": []
    },
    {
      "cell_type": "code",
      "source": [
        "# Since **schoolYear** is consider numeric by computer\n",
        "# computer accept the following (non-sense) operation\n",
        "enrollmentRate_department$schoolYear /3  \n",
        "\n"
      ],
      "metadata": {
        "id": "0OkMiOZnN4DM"
      },
      "execution_count": null,
      "outputs": []
    },
    {
      "cell_type": "code",
      "source": [
        "enrollmentRate_department$schoolYear <- factor(enrollmentRate_department$schoolYear, ordered = T)\n",
        "enrollmentRate_department$schoolYear / 3 # Computer know it's non-sense"
      ],
      "metadata": {
        "id": "mCXCnOzrOmEj"
      },
      "execution_count": null,
      "outputs": []
    },
    {
      "cell_type": "markdown",
      "source": [
        "\n",
        "> `factor()` and `lubridate::ymd()` are parsing functions that teach computer the meaning of human words (stored as string,  numeric)\n",
        "\n",
        "> Value that is not parsed is consider having its class as its type."
      ],
      "metadata": {
        "id": "L-r9_yHOPBV8"
      }
    },
    {
      "cell_type": "markdown",
      "source": [
        "### classes\n",
        "\n",
        "  * factor class: parsing `factor()` or `as.factor()`\n",
        "\n",
        "  * date class: parsing `as.Date()` or `lubridate::ymd()` and others depend on stored date/time string type."
      ],
      "metadata": {
        "id": "zE57NNuEQy0-"
      }
    },
    {
      "cell_type": "code",
      "source": [
        "dfPartial = enrollmentRate_department[c(\"schoolYear\", \"typeByFundingSource\",\"school\", \"department\",\"day_night\", \n",
        "  \"freshmenFresh\",\"freshmenOld\",\"freshmenFreshRegistered\",\n",
        "  \"foreignStudentsRegistered\", \"netFreshmenRegistrationRate\")] \n",
        "  \n",
        "dfPartial |> dplyr::glimpse()"
      ],
      "metadata": {
        "colab": {
          "base_uri": "https://localhost:8080/"
        },
        "id": "m2nuzXzsMwsH",
        "outputId": "45994a44-5f9e-4440-bae5-6693f7dd2a2c"
      },
      "execution_count": 72,
      "outputs": [
        {
          "output_type": "stream",
          "name": "stdout",
          "text": [
            "Rows: 42,900\n",
            "Columns: 10\n",
            "$ schoolYear                  \u001b[3m\u001b[90m<dbl>\u001b[39m\u001b[23m 106, 106, 106, 106, 106, 106, 106, 106, 10…\n",
            "$ typeByFundingSource         \u001b[3m\u001b[90m<chr>\u001b[39m\u001b[23m \"公立\", \"公立\", \"公立\", \"公立\", \"公立\", \"…\n",
            "$ school                      \u001b[3m\u001b[90m<chr>\u001b[39m\u001b[23m \"國立政治大學\", \"國立政治大學\", \"國立政治…\n",
            "$ department                  \u001b[3m\u001b[90m<chr>\u001b[39m\u001b[23m \"教育學系\", \"教育學系\", \"教育學系\", \"教育…\n",
            "$ day_night                   \u001b[3m\u001b[90m<chr>\u001b[39m\u001b[23m \"日間\", \"日間\", \"日間\", \"日間\", \"在職\", \"…\n",
            "$ freshmenFresh               \u001b[3m\u001b[90m<dbl>\u001b[39m\u001b[23m 50, 11, 16, 14, 24, 13, 2, 15, 11, 5, 44, …\n",
            "$ freshmenOld                 \u001b[3m\u001b[90m<dbl>\u001b[39m\u001b[23m 0, 3, 0, 0, 1, 3, 0, 0, 0, 0, 0, 1, 1, 1, …\n",
            "$ freshmenFreshRegistered     \u001b[3m\u001b[90m<dbl>\u001b[39m\u001b[23m 49, 8, 16, 14, 21, 10, 2, 14, 9, 2, 43, 11…\n",
            "$ foreignStudentsRegistered   \u001b[3m\u001b[90m<chr>\u001b[39m\u001b[23m \"...\", \"...\", \"...\", \"...\", \"...\", \"...\", …\n",
            "$ netFreshmenRegistrationRate \u001b[3m\u001b[90m<dbl>\u001b[39m\u001b[23m 98.00, 100.00, 100.00, 100.00, 91.30, 100.…\n"
          ]
        }
      ]
    },
    {
      "cell_type": "markdown",
      "source": [
        ">  pipe operator `|>`\n",
        "\n",
        "```\n",
        "value |> doThis() #closer to human words\n",
        "```\n",
        "is the same as \n",
        "```\n",
        "doThis(value)\n",
        "```"
      ],
      "metadata": {
        "id": "ANuL_YwSTan1"
      }
    },
    {
      "cell_type": "markdown",
      "source": [
        "### fix classes"
      ],
      "metadata": {
        "id": "DoqctJ6kUnmp"
      }
    },
    {
      "cell_type": "code",
      "source": [
        "dfPartial$typeByFundingSource |> factor() -> dfPartial$typeByFundingSource\n",
        "\n",
        "# the same as \n",
        "library(magrittr)\n",
        "dfPartial$typeByFundingSource %<>% factor() \n",
        "\n",
        "dfPartial$department %<>% factor()\n",
        "dfPartial$day_night %<>% factor()\n",
        "\n",
        "dplyr::glimpse(dfPartial)"
      ],
      "metadata": {
        "colab": {
          "base_uri": "https://localhost:8080/"
        },
        "id": "bKzie1x4UrCS",
        "outputId": "29dda0f0-c206-4430-d1b3-12729e08e77c"
      },
      "execution_count": 74,
      "outputs": [
        {
          "output_type": "stream",
          "name": "stdout",
          "text": [
            "Rows: 42,900\n",
            "Columns: 10\n",
            "$ schoolYear                  \u001b[3m\u001b[90m<dbl>\u001b[39m\u001b[23m 106, 106, 106, 106, 106, 106, 106, 106, 10…\n",
            "$ typeByFundingSource         \u001b[3m\u001b[90m<fct>\u001b[39m\u001b[23m 公立, 公立, 公立, 公立, 公立, 公立, 公立, …\n",
            "$ school                      \u001b[3m\u001b[90m<chr>\u001b[39m\u001b[23m \"國立政治大學\", \"國立政治大學\", \"國立政治…\n",
            "$ department                  \u001b[3m\u001b[90m<fct>\u001b[39m\u001b[23m 教育學系, 教育學系, 教育學系, 教育行政與政…\n",
            "$ day_night                   \u001b[3m\u001b[90m<fct>\u001b[39m\u001b[23m 日間, 日間, 日間, 日間, 在職, 日間, 日間, …\n",
            "$ freshmenFresh               \u001b[3m\u001b[90m<dbl>\u001b[39m\u001b[23m 50, 11, 16, 14, 24, 13, 2, 15, 11, 5, 44, …\n",
            "$ freshmenOld                 \u001b[3m\u001b[90m<dbl>\u001b[39m\u001b[23m 0, 3, 0, 0, 1, 3, 0, 0, 0, 0, 0, 1, 1, 1, …\n",
            "$ freshmenFreshRegistered     \u001b[3m\u001b[90m<dbl>\u001b[39m\u001b[23m 49, 8, 16, 14, 21, 10, 2, 14, 9, 2, 43, 11…\n",
            "$ foreignStudentsRegistered   \u001b[3m\u001b[90m<chr>\u001b[39m\u001b[23m \"...\", \"...\", \"...\", \"...\", \"...\", \"...\", …\n",
            "$ netFreshmenRegistrationRate \u001b[3m\u001b[90m<dbl>\u001b[39m\u001b[23m 98.00, 100.00, 100.00, 100.00, 91.30, 100.…\n"
          ]
        }
      ]
    },
    {
      "cell_type": "markdown",
      "source": [
        "## Summarise data\n",
        "\n",
        "  * Discrete data:\n",
        "\n",
        "    * How many categories?\n",
        "\n",
        "    * It's distribution.\n",
        "\n",
        "\n",
        "  * Continuous data:\n",
        "\n",
        "    * Central tendency (e.g. mean) , dispersion (e.g. standard deviation).\n",
        "\n",
        "\n",
        "  * NA \n"
      ],
      "metadata": {
        "id": "Lm__3cSSG3aI"
      }
    },
    {
      "cell_type": "markdown",
      "source": [
        "### NA\n",
        "\n",
        "  * Any NA?"
      ],
      "metadata": {
        "id": "xf-Q41nJWcyA"
      }
    },
    {
      "cell_type": "code",
      "source": [
        "# check each feature\n",
        "dfPartial[[1]] |> anyNA()\n",
        "dfPartial[[2]] |> anyNA()\n",
        "\n",
        "# Actually should check all before individual checking\n",
        "dfPartial |> anyNA()"
      ],
      "metadata": {
        "id": "8G-u1gCLWcX-"
      },
      "execution_count": null,
      "outputs": []
    },
    {
      "cell_type": "markdown",
      "source": [
        "## Discrete data\n",
        "\n"
      ],
      "metadata": {
        "id": "ckhk0txRYuoi"
      }
    },
    {
      "cell_type": "markdown",
      "source": [
        "### Factor\n",
        "\n",
        "#### Levels"
      ],
      "metadata": {
        "id": "QVSjwkrXaLN5"
      }
    },
    {
      "cell_type": "code",
      "source": [
        "levels(dfPartial$typeByFundingSource)\n",
        "\n",
        "# change to English\n",
        "levels(dfPartial$typeByFundingSource) <- c(\"public\", \"private\")\n"
      ],
      "metadata": {
        "id": "lcZrjFwZaSdA"
      },
      "execution_count": null,
      "outputs": []
    },
    {
      "cell_type": "code",
      "source": [
        "levels(dfPartial$typeByFundingSource)\n",
        "\n",
        "\n",
        "tb <- table(dfPartial$typeByFundingSource)\n",
        "tb\n",
        "prop.table(tb) # shows the distribution"
      ],
      "metadata": {
        "id": "wyM8bjuXYz9k"
      },
      "execution_count": null,
      "outputs": []
    },
    {
      "cell_type": "code",
      "source": [
        "dfPartial$typeByFundingSource |>\n",
        "  table() |>\n",
        "  prop.table()"
      ],
      "metadata": {
        "id": "lAjAWQuhZ3qF"
      },
      "execution_count": null,
      "outputs": []
    }
  ]
}