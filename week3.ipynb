{
  "nbformat": 4,
  "nbformat_minor": 0,
  "metadata": {
    "colab": {
      "provenance": [],
      "authorship_tag": "ABX9TyOgTzATMAmA/SbdzhwQmsrQ",
      "include_colab_link": true
    },
    "kernelspec": {
      "name": "ir",
      "display_name": "R"
    },
    "language_info": {
      "name": "R"
    }
  },
  "cells": [
    {
      "cell_type": "markdown",
      "metadata": {
        "id": "view-in-github",
        "colab_type": "text"
      },
      "source": [
        "<a href=\"https://colab.research.google.com/github/tpemartin/111-1-R/blob/master/week3.ipynb\" target=\"_parent\"><img src=\"https://colab.research.google.com/assets/colab-badge.svg\" alt=\"Open In Colab\"/></a>"
      ]
    },
    {
      "cell_type": "code",
      "execution_count": null,
      "metadata": {
        "id": "DP0lLGcOmmHN"
      },
      "outputs": [],
      "source": [
        "a=3\n",
        "b=5"
      ]
    },
    {
      "cell_type": "code",
      "source": [
        "a+b"
      ],
      "metadata": {
        "colab": {
          "base_uri": "https://localhost:8080/",
          "height": 34
        },
        "id": "d0es6xqam5Uy",
        "outputId": "6007461c-4b39-4184-edc6-5030b5241632"
      },
      "execution_count": null,
      "outputs": [
        {
          "output_type": "display_data",
          "data": {
            "text/html": [
              "8"
            ],
            "text/markdown": "8",
            "text/latex": "8",
            "text/plain": [
              "[1] 8"
            ]
          },
          "metadata": {}
        }
      ]
    },
    {
      "cell_type": "code",
      "source": [
        "ls(.GlobalEnv)"
      ],
      "metadata": {
        "id": "GG8vI5w6nO1M",
        "colab": {
          "base_uri": "https://localhost:8080/",
          "height": 34
        },
        "outputId": "f8222971-4239-481a-f629-6b259ada7032"
      },
      "execution_count": null,
      "outputs": [
        {
          "output_type": "display_data",
          "data": {
            "text/html": [
              "<style>\n",
              ".list-inline {list-style: none; margin:0; padding: 0}\n",
              ".list-inline>li {display: inline-block}\n",
              ".list-inline>li:not(:last-child)::after {content: \"\\00b7\"; padding: 0 .5ex}\n",
              "</style>\n",
              "<ol class=list-inline><li>'a'</li><li>'b'</li></ol>\n"
            ],
            "text/markdown": "1. 'a'\n2. 'b'\n\n\n",
            "text/latex": "\\begin{enumerate*}\n\\item 'a'\n\\item 'b'\n\\end{enumerate*}\n",
            "text/plain": [
              "[1] \"a\" \"b\""
            ]
          },
          "metadata": {}
        }
      ]
    },
    {
      "cell_type": "markdown",
      "source": [
        "# Title 1\n",
        "\n",
        "this is ...\n",
        "\n",
        "\n",
        "```{r}\n",
        "a=5\n",
        "b=2 # cursor here, press ctrol-enter/ command/enter\n",
        "```\n",
        "\n",
        "```\n",
        "a+b\n",
        "```"
      ],
      "metadata": {
        "id": "VkzMI_bwrqJk"
      }
    },
    {
      "cell_type": "markdown",
      "source": [
        "\n",
        "```{r}\n",
        "a=5\n",
        "b=2 # cursor here, press ctrol-enter/ command/enter\n",
        "```\n",
        "\n",
        "```{r}\n",
        "a+b\n",
        "```"
      ],
      "metadata": {
        "id": "MYBc2TXYs33L"
      }
    },
    {
      "cell_type": "markdown",
      "source": [
        "dfsfdsfdfsa"
      ],
      "metadata": {
        "id": "A3F0faP8x7Ud"
      }
    },
    {
      "cell_type": "code",
      "source": [],
      "metadata": {
        "id": "B2fFmvNCyCKJ"
      },
      "execution_count": null,
      "outputs": []
    }
  ]
}